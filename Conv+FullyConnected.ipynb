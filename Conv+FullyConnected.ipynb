{
 "cells": [
  {
   "cell_type": "code",
   "execution_count": null,
   "metadata": {},
   "outputs": [],
   "source": [
    "import csv\n",
    "from cv2 import imread,cvtColor\n",
    "import cv2\n",
    "import matplotlib.pyplot as plt\n",
    "import tensorflow as tf\n",
    "import numpy as np"
   ]
  },
  {
   "cell_type": "code",
   "execution_count": null,
   "metadata": {},
   "outputs": [],
   "source": [
    "file = open('driver_imgs_list.csv')\n",
    "lst = csv.reader(file)\n",
    "file_list = []\n",
    "for i in lst:\n",
    "    file_list.append(i)\n",
    "file_list.pop(0)\n",
    "w = 128\n",
    "h = 192\n",
    "input_size = w * h"
   ]
  },
  {
   "cell_type": "code",
   "execution_count": null,
   "metadata": {},
   "outputs": [],
   "source": [
    "def read_file(file):\n",
    "    img = cv2.imread('train/'+file[1]+'/'+file[2],0)\n",
    "    img = cv2.resize(img,(w,h), interpolation=cv2.INTER_LINEAR)\n",
    "    img = img.astype(np.float32)/255.0\n",
    "    label = int(file[1][1])\n",
    "    return img,label\n",
    "def show(array):\n",
    "    plt.figure()\n",
    "    plt.imshow(array.reshape([h,w]), cmap=\"gray\")\n",
    "    plt.show()\n",
    "def get_batch(batch_size):\n",
    "    j = np.random.randint(0,20788,batch_size)\n",
    "    batch = np.zeros((batch_size,h,w,1))\n",
    "    k = 0\n",
    "    label = np.zeros((batch_size,10))\n",
    "    for i in j:\n",
    "        batch[k,:,:,0],lab = read_file(file_list[i])\n",
    "        label[k,lab] = 1\n",
    "        k+=1\n",
    "    return batch,label\n",
    "def get_test_batch(batch_size):\n",
    "    j = np.random.randint(20788,22424,batch_size)\n",
    "    batch = np.zeros((batch_size,h,w,1))\n",
    "    k = 0\n",
    "    label = np.zeros((batch_size,10))\n",
    "    for i in j:\n",
    "        batch[k,:,:,0],lab = read_file(file_list[i])\n",
    "        label[k,lab] = 1\n",
    "        k+=1\n",
    "    return batch,label"
   ]
  },
  {
   "cell_type": "code",
   "execution_count": null,
   "metadata": {},
   "outputs": [],
   "source": [
    "## \n",
    "X = tf.placeholder (dtype=tf.float32,shape=[None, h,w,1])\n",
    "Y = tf.placeholder(dtype=tf.float32,shape=[None,10])\n",
    "####\n",
    "####\n",
    "#con0= tf.layers.conv2d(inputs=X,kernel_size=(3,3),filters=16,activation=tf.nn.relu,strides=1,padding='same')\n",
    "#con1 = tf.layers.conv2d(inputs=con0,kernel_size=(3,3),filters=16,activation=tf.nn.relu,strides=1,padding='same')\n",
    "#max1 = tf.layers.max_pooling2d(inputs=con1,pool_size=2,strides=2)\n",
    "####\n",
    "con0 = tf.layers.conv2d(inputs=X,kernel_size=(7,7),filters=4,activation=tf.nn.relu,strides=1,padding='same')\n",
    "max0 = tf.layers.max_pooling2d(inputs=con0,pool_size=2,strides=2)\n",
    "########\n",
    "con1 = tf.layers.conv2d(inputs=max0,kernel_size=(5,5),filters=8,activation=tf.nn.relu,strides=1,padding='same')\n",
    "max1 = tf.layers.max_pooling2d(inputs=con1,pool_size=2,strides=2)\n",
    "#####\n",
    "con2 = tf.layers.conv2d(inputs=max1,kernel_size=(3,3),filters=16,activation=tf.nn.relu,strides=1,padding='same')\n",
    "max2 = tf.layers.max_pooling2d(inputs=con2,pool_size=2,strides=2)\n",
    "#####\n",
    "con3 = tf.layers.conv2d(inputs=max2,kernel_size=(3,3),filters=32,activation=tf.nn.relu,strides=1,padding='same')\n",
    "max3 = tf.layers.max_pooling2d(inputs=con3,pool_size=2,strides=2)\n",
    "#####\n",
    "con4 = tf.layers.conv2d(inputs=max3,kernel_size=(3,3),filters=64,activation=tf.nn.relu,strides=1,padding='same')\n",
    "max4 = tf.layers.max_pooling2d(inputs=con4,pool_size=2,strides=2)\n",
    "#####\n",
    "#######################################\n",
    "fc_1 = tf.reshape(max4,[-1,6*64*4])\n",
    "dr = tf.placeholder(dtype=tf.float32,shape=[])\n",
    "fc_1_d = tf.nn.dropout(fc_1,keep_prob=dr)\n",
    "#######################################\n",
    "fc_2 = tf.layers.dense(inputs=fc_1_d,units=2000,activation=tf.nn.relu)\n",
    "fc_2_d = tf.nn.dropout(fc_2,keep_prob=dr)\n",
    "#######################################\n",
    "fc_3 = tf.layers.dense(inputs=fc_2_d,units=10)\n",
    "#######################################\n",
    "loss = tf.reduce_mean(tf.nn.softmax_cross_entropy_with_logits_v2(labels=Y, logits=fc_3))\n",
    "optimizer = tf.train.AdamOptimizer(0.0001).minimize(loss)\n",
    "correctPred = tf.equal(tf.argmax(fc_3,1), tf.argmax(Y,1))\n",
    "accuracy = tf.reduce_mean(tf.cast(correctPred, tf.float32))"
   ]
  },
  {
   "cell_type": "code",
   "execution_count": null,
   "metadata": {},
   "outputs": [],
   "source": [
    "init = tf.global_variables_initializer()\n",
    "sess = tf.Session()\n",
    "sess.run(init)"
   ]
  },
  {
   "cell_type": "code",
   "execution_count": null,
   "metadata": {
    "scrolled": true
   },
   "outputs": [],
   "source": [
    "for i in range(3000):\n",
    "    batch_x,batch_y = get_batch(16)\n",
    "    _,l,acc = sess.run([optimizer,loss,accuracy],feed_dict={X: batch_x,Y:batch_y,dr:0.5})\n",
    "    if i % 100 == 0:\n",
    "        print(l,acc)\n",
    "        total_acc = 0\n",
    "        for i in range(100):\n",
    "            batch_x,batch_y = get_test_batch(16)\n",
    "            l,acc = sess.run([loss,accuracy],feed_dict={X: batch_x,Y:batch_y,dr:1})\n",
    "            total_acc += acc\n",
    "        print(total_acc/100)"
   ]
  },
  {
   "cell_type": "code",
   "execution_count": null,
   "metadata": {},
   "outputs": [],
   "source": [
    "total_acc = 0\n",
    "for i in range(100):\n",
    "    batch_x,batch_y = get_test_batch(16)\n",
    "    l,acc = sess.run([loss,accuracy],feed_dict={X: batch_x,Y:batch_y,dr:1})\n",
    "    total_acc += acc\n",
    "print(total_acc/100)"
   ]
  },
  {
   "cell_type": "code",
   "execution_count": null,
   "metadata": {},
   "outputs": [],
   "source": []
  }
 ],
 "metadata": {
  "kernelspec": {
   "display_name": "Python 3",
   "language": "python",
   "name": "python3"
  },
  "language_info": {
   "codemirror_mode": {
    "name": "ipython",
    "version": 3
   },
   "file_extension": ".py",
   "mimetype": "text/x-python",
   "name": "python",
   "nbconvert_exporter": "python",
   "pygments_lexer": "ipython3",
   "version": "3.5.2"
  }
 },
 "nbformat": 4,
 "nbformat_minor": 2
}

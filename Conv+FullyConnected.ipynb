{
 "cells": [
  {
   "cell_type": "code",
   "execution_count": 1,
   "metadata": {},
   "outputs": [],
   "source": [
    "import csv\n",
    "from cv2 import imread,cvtColor\n",
    "import cv2\n",
    "import matplotlib.pyplot as plt\n",
    "import tensorflow as tf\n",
    "import numpy as np"
   ]
  },
  {
   "cell_type": "code",
   "execution_count": 2,
   "metadata": {},
   "outputs": [],
   "source": [
    "file = open('driver_imgs_list.csv')\n",
    "lst = csv.reader(file)\n",
    "file_list = []\n",
    "for i in lst:\n",
    "    file_list.append(i)\n",
    "file_list.pop(0)\n",
    "w = 160\n",
    "h = 192\n",
    "input_size = w * h"
   ]
  },
  {
   "cell_type": "code",
   "execution_count": 3,
   "metadata": {},
   "outputs": [],
   "source": [
    "def read_file(file):\n",
    "    img = cv2.imread('train/'+file[1]+'/'+file[2],0)\n",
    "    img = cv2.resize(img,(w,h), interpolation=cv2.INTER_LINEAR)\n",
    "    img = img.astype(np.float32)/255.0\n",
    "    label = int(file[1][1])\n",
    "    return img,label\n",
    "def show(array):\n",
    "    plt.figure()\n",
    "    plt.imshow(array.reshape([h,w]), cmap=\"gray\")\n",
    "    plt.show()\n",
    "def get_batch(batch_size):\n",
    "    j = np.random.randint(0,20788,batch_size)\n",
    "    batch = np.zeros((batch_size,h,w,1))\n",
    "    k = 0\n",
    "    label = np.zeros((batch_size,10))\n",
    "    for i in j:\n",
    "        batch[k,:,:,0],lab = read_file(file_list[i])\n",
    "        label[k,lab] = 1\n",
    "        k+=1\n",
    "    return batch,label\n",
    "def get_test_batch(batch_size):\n",
    "    j = np.random.randint(20788,22424,batch_size)\n",
    "    batch = np.zeros((batch_size,h,w,1))\n",
    "    k = 0\n",
    "    label = np.zeros((batch_size,10))\n",
    "    for i in j:\n",
    "        batch[k,:,:,0],lab = read_file(file_list[i])\n",
    "        label[k,lab] = 1\n",
    "        k+=1\n",
    "    return batch,label"
   ]
  },
  {
   "cell_type": "code",
   "execution_count": 4,
   "metadata": {},
   "outputs": [],
   "source": [
    "## \n",
    "X = tf.placeholder (dtype=tf.float32,shape=[None, h,w,1])\n",
    "Y = tf.placeholder(dtype=tf.float32,shape=[None,10])\n",
    "####\n",
    "####\n",
    "#con0= tf.layers.conv2d(inputs=X,kernel_size=(3,3),filters=16,activation=tf.nn.relu,strides=1,padding='same')\n",
    "#con1 = tf.layers.conv2d(inputs=con0,kernel_size=(3,3),filters=16,activation=tf.nn.relu,strides=1,padding='same')\n",
    "#max1 = tf.layers.max_pooling2d(inputs=con1,pool_size=2,strides=2)\n",
    "####\n",
    "con0 = tf.layers.conv2d(inputs=X,kernel_size=(11,11),filters=16,activation=tf.nn.relu,strides=1,padding='same')\n",
    "max0 = tf.layers.max_pooling2d(inputs=con0,pool_size=2,strides=2)\n",
    "########\n",
    "con1 = tf.layers.conv2d(inputs=max0,kernel_size=(7,7),filters=16,activation=tf.nn.relu,strides=1,padding='same')\n",
    "max1 = tf.layers.max_pooling2d(inputs=con1,pool_size=2,strides=2)\n",
    "#####\n",
    "con2 = tf.layers.conv2d(inputs=max1,kernel_size=(5,5),filters=16,activation=tf.nn.relu,strides=1,padding='same')\n",
    "max2 = tf.layers.max_pooling2d(inputs=con2,pool_size=2,strides=2)\n",
    "#####\n",
    "con3 = tf.layers.conv2d(inputs=max2,kernel_size=(3,3),filters=16,activation=tf.nn.relu,strides=1,padding='same')\n",
    "max3 = tf.layers.max_pooling2d(inputs=con3,pool_size=2,strides=2)\n",
    "#####\n",
    "con4 = tf.layers.conv2d(inputs=max3,kernel_size=(3,3),filters=16,activation=tf.nn.relu,strides=1,padding='same')\n",
    "max4 = tf.layers.max_pooling2d(inputs=con4,pool_size=2,strides=2)\n",
    "#####\n",
    "#######################################\n",
    "fc_1 = tf.reshape(max4,[-1,480])\n",
    "dr = tf.placeholder(dtype=tf.float32,shape=[])\n",
    "fc_1_d = tf.nn.dropout(fc_1,keep_prob=dr)\n",
    "#######################################\n",
    "fc_2 = tf.layers.dense(inputs=fc_1_d,units=2000,activation=tf.nn.relu)\n",
    "fc_2_d = tf.nn.dropout(fc_2,keep_prob=dr)\n",
    "#######################################\n",
    "fc_3 = tf.layers.dense(inputs=fc_2_d,units=10)\n",
    "#######################################\n",
    "loss = tf.reduce_mean(tf.nn.softmax_cross_entropy_with_logits_v2(labels=Y, logits=fc_3))\n",
    "optimizer = tf.train.AdamOptimizer(0.0001).minimize(loss)\n",
    "correctPred = tf.equal(tf.argmax(fc_3,1), tf.argmax(Y,1))\n",
    "accuracy = tf.reduce_mean(tf.cast(correctPred, tf.float32))"
   ]
  },
  {
   "cell_type": "code",
   "execution_count": 5,
   "metadata": {},
   "outputs": [],
   "source": [
    "init = tf.global_variables_initializer()\n",
    "sess = tf.Session()\n",
    "sess.run(init)"
   ]
  },
  {
   "cell_type": "code",
   "execution_count": 9,
   "metadata": {
    "scrolled": true
   },
   "outputs": [
    {
     "name": "stdout",
     "output_type": "stream",
     "text": [
      "0.74514294 0.75\n",
      "0.406875\n",
      "0.41131315 0.75\n",
      "0.4125\n",
      "0.8606043 0.6875\n",
      "0.4475\n",
      "0.46515852 0.8125\n",
      "0.401875\n",
      "0.5484531 0.75\n",
      "0.3925\n",
      "0.74581623 0.8125\n",
      "0.436875\n",
      "0.6734744 0.75\n",
      "0.424375\n",
      "0.98448557 0.5625\n",
      "0.435\n",
      "0.37204355 0.875\n",
      "0.433125\n",
      "0.39217874 0.8125\n",
      "0.401875\n",
      "0.34944546 0.9375\n",
      "0.400625\n",
      "0.3630026 0.9375\n",
      "0.399375\n",
      "0.5022036 0.8125\n",
      "0.405625\n",
      "0.5515971 0.875\n",
      "0.438125\n",
      "0.41837394 0.875\n",
      "0.4125\n",
      "0.6541947 0.8125\n",
      "0.415\n",
      "0.10506964 1.0\n",
      "0.43875\n",
      "0.73756874 0.75\n",
      "0.443125\n",
      "0.75459814 0.6875\n",
      "0.39875\n",
      "0.5317628 0.875\n",
      "0.3825\n",
      "0.25554767 0.875\n",
      "0.399375\n",
      "0.33756194 0.875\n",
      "0.4075\n",
      "0.5755125 0.8125\n",
      "0.360625\n",
      "0.5009926 0.875\n",
      "0.42375\n",
      "0.535323 0.75\n",
      "0.3475\n",
      "0.25700542 0.875\n",
      "0.361875\n",
      "0.14400485 0.9375\n",
      "0.383125\n",
      "0.34697258 0.8125\n",
      "0.42625\n",
      "0.58792025 0.875\n",
      "0.400625\n",
      "0.44366732 0.875\n",
      "0.379375\n"
     ]
    }
   ],
   "source": [
    "for i in range(3000):\n",
    "    batch_x,batch_y = get_batch(16)\n",
    "    _,l,acc = sess.run([optimizer,loss,accuracy],feed_dict={X: batch_x,Y:batch_y,dr:0.5})\n",
    "    if i % 100 == 0:\n",
    "        print(l,acc)\n",
    "        total_acc = 0\n",
    "        for i in range(100):\n",
    "            batch_x,batch_y = get_test_batch(16)\n",
    "            l,acc = sess.run([loss,accuracy],feed_dict={X: batch_x,Y:batch_y,dr:1})\n",
    "            total_acc += acc\n",
    "        print(total_acc/100)"
   ]
  },
  {
   "cell_type": "code",
   "execution_count": 7,
   "metadata": {},
   "outputs": [
    {
     "name": "stdout",
     "output_type": "stream",
     "text": [
      "0.4075\n"
     ]
    }
   ],
   "source": [
    "total_acc = 0\n",
    "for i in range(100):\n",
    "    batch_x,batch_y = get_test_batch(16)\n",
    "    l,acc = sess.run([loss,accuracy],feed_dict={X: batch_x,Y:batch_y,dr:1})\n",
    "    total_acc += acc\n",
    "print(total_acc/100)"
   ]
  },
  {
   "cell_type": "code",
   "execution_count": 8,
   "metadata": {},
   "outputs": [
    {
     "ename": "NameError",
     "evalue": "name 'max5' is not defined",
     "output_type": "error",
     "traceback": [
      "\u001b[0;31m---------------------------------------------------------------------------\u001b[0m",
      "\u001b[0;31mNameError\u001b[0m                                 Traceback (most recent call last)",
      "\u001b[0;32m<ipython-input-8-7ced3b58b6c0>\u001b[0m in \u001b[0;36m<module>\u001b[0;34m()\u001b[0m\n\u001b[0;32m----> 1\u001b[0;31m \u001b[0msess\u001b[0m\u001b[0;34m.\u001b[0m\u001b[0mrun\u001b[0m\u001b[0;34m(\u001b[0m\u001b[0mmax5\u001b[0m\u001b[0;34m,\u001b[0m\u001b[0mfeed_dict\u001b[0m\u001b[0;34m=\u001b[0m\u001b[0;34m{\u001b[0m\u001b[0mX\u001b[0m\u001b[0;34m:\u001b[0m \u001b[0mbatch_x\u001b[0m\u001b[0;34m,\u001b[0m\u001b[0mY\u001b[0m\u001b[0;34m:\u001b[0m\u001b[0mbatch_y\u001b[0m\u001b[0;34m,\u001b[0m\u001b[0mdr\u001b[0m\u001b[0;34m:\u001b[0m\u001b[0;36m1\u001b[0m\u001b[0;34m}\u001b[0m\u001b[0;34m)\u001b[0m\u001b[0;34m.\u001b[0m\u001b[0mshape\u001b[0m\u001b[0;34m\u001b[0m\u001b[0m\n\u001b[0m",
      "\u001b[0;31mNameError\u001b[0m: name 'max5' is not defined"
     ]
    }
   ],
   "source": [
    "sess.run(max5,feed_dict={X: batch_x,Y:batch_y,dr:1}).shape\n"
   ]
  },
  {
   "cell_type": "code",
   "execution_count": null,
   "metadata": {},
   "outputs": [],
   "source": []
  }
 ],
 "metadata": {
  "kernelspec": {
   "display_name": "Python 3",
   "language": "python",
   "name": "python3"
  },
  "language_info": {
   "codemirror_mode": {
    "name": "ipython",
    "version": 3
   },
   "file_extension": ".py",
   "mimetype": "text/x-python",
   "name": "python",
   "nbconvert_exporter": "python",
   "pygments_lexer": "ipython3",
   "version": "3.5.2"
  }
 },
 "nbformat": 4,
 "nbformat_minor": 2
}

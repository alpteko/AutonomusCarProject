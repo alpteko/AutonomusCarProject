{
 "cells": [
  {
   "cell_type": "code",
   "execution_count": null,
   "metadata": {},
   "outputs": [],
   "source": [
    "import csv\n",
    "from cv2 import imread,cvtColor\n",
    "import cv2\n",
    "import matplotlib.pyplot as plt\n",
    "import tensorflow as tf\n",
    "import numpy as np"
   ]
  },
  {
   "cell_type": "code",
   "execution_count": null,
   "metadata": {},
   "outputs": [],
   "source": [
    "file = open('driver_imgs_list.csv')\n",
    "lst = csv.reader(file)\n",
    "file_list = []\n",
    "for i in lst:\n",
    "    file_list.append(i)\n",
    "file_list.pop(0)\n",
    "w = 96\n",
    "h = 128"
   ]
  },
  {
   "cell_type": "code",
   "execution_count": null,
   "metadata": {},
   "outputs": [],
   "source": [
    "def read_file(file):\n",
    "    img = cv2.imread('train/'+file[1]+'/'+file[2],0)\n",
    "    img = cv2.resize(img,(w,h), interpolation=cv2.INTER_LINEAR)\n",
    "    img = img.astype(np.float32)/255.0\n",
    "    label = int(file[1][1])\n",
    "    return img.reshape([1,-1]),label\n",
    "def show(array):\n",
    "    plt.figure()\n",
    "    plt.imshow(array.reshape([h,w]), cmap=\"gray\")\n",
    "    plt.show()\n",
    "def get_batch(batch_size):\n",
    "    j = np.random.randint(0,20788,batch_size)\n",
    "    batch = np.zeros((batch_size,w*h))\n",
    "    k = 0\n",
    "    label = np.zeros((batch_size,10))\n",
    "    for i in j:\n",
    "        batch[k:k+1,:],lab = read_file(file_list[i])\n",
    "        label[k,lab] = 1\n",
    "        k+=1\n",
    "    return batch,label\n",
    "def get_test_batch(batch_size):\n",
    "    j = np.random.randint(20788,22424,batch_size)\n",
    "    batch = np.zeros((batch_size,w*h))\n",
    "    k = 0\n",
    "    label = np.zeros((batch_size,10))\n",
    "    for i in j:\n",
    "        batch[k:k+1,:],lab = read_file(file_list[i])\n",
    "        label[k,lab] = 1\n",
    "        k+=1\n",
    "    return batch,label"
   ]
  },
  {
   "cell_type": "code",
   "execution_count": null,
   "metadata": {},
   "outputs": [],
   "source": [
    "num_steps = 500000000\n",
    "lr = 0.001\n",
    "display_step = 100\n",
    "batch_size = 64"
   ]
  },
  {
   "cell_type": "code",
   "execution_count": null,
   "metadata": {},
   "outputs": [],
   "source": [
    "h_3_size = 1000\n",
    "input_size = w * h"
   ]
  },
  {
   "cell_type": "code",
   "execution_count": null,
   "metadata": {},
   "outputs": [],
   "source": [
    "x = tf.placeholder (dtype=tf.float32,shape=[None, input_size])"
   ]
  },
  {
   "cell_type": "code",
   "execution_count": null,
   "metadata": {},
   "outputs": [],
   "source": [
    "h_2 = tf.layers.dense(inputs=x,units=1000,activation=tf.nn.relu)\n",
    "\n",
    "h_1 = tf.layers.dense(inputs=h_2,units=500,activation=tf.nn.relu)\n",
    "\n",
    "d_1 = tf.layers.dense(inputs=h_1, units=1000, activation=tf.nn.relu)\n",
    "d_2 = tf.layers.dense(inputs=d_1, units=96*128)\n",
    "d_3 = tf.nn.sigmoid(d_2)\n",
    "loss = tf.reduce_mean(tf.nn.sigmoid_cross_entropy_with_logits(labels=x, logits=d_2))\n",
    "lrr = tf.placeholder(shape=[],dtype=tf.float32)\n",
    "optimizer = tf.train.AdamOptimizer(learning_rate=lrr).minimize(loss)\n"
   ]
  },
  {
   "cell_type": "code",
   "execution_count": null,
   "metadata": {},
   "outputs": [],
   "source": [
    "Y = tf.placeholder (dtype=tf.float32,shape=[None, 10])\n",
    "y_1 = tf.layers.dense(inputs=h_1,units=500,name='alp',activation=tf.nn.relu)\n",
    "y_11 = tf.layers.dense(inputs=y_1,units=100,name='alp1',activation=tf.nn.relu)\n",
    "y_2 = tf.layers.dense(inputs=y_11,units=10,name='alp2')\n",
    "clf_loss = tf.reduce_mean(tf.nn.softmax_cross_entropy_with_logits_v2(labels=Y, logits=y_2))\n",
    "optimizer2 = tf.train.AdamOptimizer(lrr).minimize(clf_loss)\n",
    "correctPred = tf.equal(tf.argmax(y_2,1), tf.argmax(Y,1))\n",
    "accuracy = tf.reduce_mean(tf.cast(correctPred, tf.float32))"
   ]
  },
  {
   "cell_type": "code",
   "execution_count": null,
   "metadata": {
    "scrolled": false
   },
   "outputs": [],
   "source": [
    "sess = tf.Session()\n",
    "sess.run(tf.global_variables_initializer())\n",
    "loss_array = []\n",
    "clf_array = []"
   ]
  },
  {
   "cell_type": "code",
   "execution_count": null,
   "metadata": {
    "scrolled": true
   },
   "outputs": [],
   "source": [
    "# Start Training# Training\n",
    "for i in range(1, num_steps+1):\n",
    "    # Prepare Data\n",
    "    # Get the next batch of MNIST data (only images are needed, not labels)\n",
    "    batch_x,batch_y = get_batch(64)\n",
    "\n",
    "    #Run optimization op (backprop) and cost op (to get loss value)\n",
    "    _, l,img = sess.run([optimizer, loss,d_3], feed_dict={x: batch_x,lrr:lr})\n",
    "    loss_array.append(l)\n",
    "    print('Recons:',l)\n",
    "    batch_x,batch_y = get_batch(64)\n",
    "    _, l= sess.run([optimizer2, clf_loss], feed_dict={x: batch_x,Y:batch_y,lrr:lr})\n",
    "    clf_array.append(l)\n",
    "    print('Class:',l)\n",
    "    if i % display_step == 0 or i == 1:\n",
    "        print('Step %i: Minibatch Loss: %f' % (i, l))\n",
    "        lr *= 0.9\n",
    "        show(batch_x[0:1,:])\n",
    "        show(img[0:1,:])\n",
    "    if lr < 0.00001:\n",
    "        break"
   ]
  },
  {
   "cell_type": "code",
   "execution_count": null,
   "metadata": {},
   "outputs": [],
   "source": [
    "total_acc = 0\n",
    "for i in range(100):\n",
    "    batch_x,label = get_test_batch(batch_size)\n",
    "    l,acc = sess.run([clf_loss,accuracy], feed_dict={x: batch_x,Y:label})\n",
    "    total_acc += acc\n",
    "print(total_acc/100)"
   ]
  },
  {
   "cell_type": "code",
   "execution_count": null,
   "metadata": {},
   "outputs": [],
   "source": [
    "plt.semilogy(loss_array,label='Recons')\n",
    "plt.semilogy(clf_array,label='Class')\n",
    "plt.legend()\n",
    "plt.show()"
   ]
  },
  {
   "cell_type": "code",
   "execution_count": null,
   "metadata": {},
   "outputs": [],
   "source": [
    "lr = 0.001"
   ]
  },
  {
   "cell_type": "code",
   "execution_count": null,
   "metadata": {},
   "outputs": [],
   "source": []
  }
 ],
 "metadata": {
  "kernelspec": {
   "display_name": "Python 3",
   "language": "python",
   "name": "python3"
  },
  "language_info": {
   "codemirror_mode": {
    "name": "ipython",
    "version": 3
   },
   "file_extension": ".py",
   "mimetype": "text/x-python",
   "name": "python",
   "nbconvert_exporter": "python",
   "pygments_lexer": "ipython3",
   "version": "3.5.2"
  }
 },
 "nbformat": 4,
 "nbformat_minor": 2
}
